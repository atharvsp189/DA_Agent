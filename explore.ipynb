{
 "cells": [
  {
   "cell_type": "code",
   "execution_count": 4,
   "id": "41f25823",
   "metadata": {},
   "outputs": [],
   "source": [
    "import os\n",
    "import json\n",
    "import logging\n",
    "from llama_index.llms.google_genai import GoogleGenAI\n",
    "from llama_index.core.tools import FunctionTool\n",
    "import streamlit as st\n",
    "import pandas as pd\n",
    "\n",
    "from dotenv import load_dotenv\n",
    "load_dotenv()\n",
    "\n",
    "with open(os.path.join(os.getcwd(), \"config.json\"), 'r') as f:\n",
    "    config = json.loads(f.read())\n",
    "\n",
    "llm = GoogleGenAI(\n",
    "    model=config[\"llm\"][\"model\"],\n",
    "    temperature=config[\"llm\"][\"temperature\"],\n",
    "    api_key=os.getenv(\"GOOGLE_API_KEY\"),\n",
    ")"
   ]
  },
  {
   "cell_type": "code",
   "execution_count": 5,
   "id": "66d7c9c3",
   "metadata": {},
   "outputs": [],
   "source": [
    "# Import Libraries for Analysis\n",
    "import os\n",
    "import pandas as pd\n",
    "import numpy as np\n",
    "import openpyxl as pyx\n",
    "\n",
    "# Import Libararies for Visualization\n",
    "import matplotlib.pyplot as plt\n",
    "import matplotlib.font_manager as fm\n",
    "import seaborn as sns\n",
    "import plotly.express as px\n",
    "import plotly.graph_objects as go\n",
    "\n",
    "# Use Windows Installed fonts for rendering devnaagri text\n",
    "plt.rcParams['font.family'] = ['Nirmala UI']\n",
    "plt.rcParams['axes.unicode_minus'] = False"
   ]
  },
  {
   "cell_type": "code",
   "execution_count": 6,
   "id": "77756aed",
   "metadata": {},
   "outputs": [],
   "source": [
    "def query_dataframe(code: str):\n",
    "    \"\"\"Executes Python code on the dataframe `df` and returns result + code.\"\"\"\n",
    "    try:\n",
    "        # Eval the result\n",
    "        print(\"Generated Code: \", code)\n",
    "        result = eval(code)\n",
    "        return result\n",
    "    except Exception as e:\n",
    "        return f\"Error: {e}\""
   ]
  },
  {
   "cell_type": "code",
   "execution_count": 7,
   "id": "22b41e9c",
   "metadata": {},
   "outputs": [],
   "source": [
    "# def visualize_data(code: str):\n",
    "#     \"\"\"\n",
    "#     Executes code for seaborn/matplotlib plot using global df,\n",
    "#     saves the figure to disk, and returns image path.\n",
    "#     \"\"\"\n",
    "#     global df\n",
    "#     image_filename = \"seaborn_plot.png\"\n",
    "#     image_path = os.path.join(\"plots\", image_filename)\n",
    "\n",
    "#     try:\n",
    "#         print(\"Generated Code:\\n\", code)\n",
    "#         exec(code)\n",
    "#         fig = plt.gcf()\n",
    "#         os.makedirs(\"plots\", exist_ok=True)\n",
    "#         fig.savefig(image_path, bbox_inches='tight', dpi=300)\n",
    "#         fig.show()\n",
    "#         plt.close(fig)\n",
    "#         print(f\"Visualization saved to: {image_path}\")\n",
    "#         return image_path\n",
    "\n",
    "#     except Exception as e:\n",
    "#         print(\"Error during visualization:\")\n",
    "#         return None\n",
    "\n",
    "def visualize_data(code: str):\n",
    "    \"\"\"\n",
    "    Executes code for seaborn/matplotlib plot using global df,\n",
    "    saves the figure to disk, and returns image path.\n",
    "    \"\"\"\n",
    "    global df\n",
    "    image_filename = \"seaborn_plot.png\"\n",
    "    image_path = os.path.join(\"plots\", image_filename)\n",
    "    \n",
    "    try:\n",
    "        print(\"Generated Code:\\n\", code)\n",
    "        \n",
    "        # Clear any existing plots\n",
    "        plt.clf()\n",
    "        \n",
    "        # Execute the plotting code\n",
    "        exec(code)\n",
    "        \n",
    "        # Get current figure\n",
    "        fig = plt.gcf()\n",
    "        \n",
    "        # Ensure we have a valid plot\n",
    "        if not fig.get_axes():\n",
    "            print(\"Warning: No plot was created\")\n",
    "            return None\n",
    "        \n",
    "        # Create directory\n",
    "        os.makedirs(\"plots\", exist_ok=True)\n",
    "        \n",
    "        # Save with explicit parameters\n",
    "        plt.savefig(image_path, \n",
    "                   bbox_inches='tight', \n",
    "                   dpi=300, \n",
    "                   facecolor='white',\n",
    "                   edgecolor='none',\n",
    "                   format='png')\n",
    "        \n",
    "        plt.show()\n",
    "        plt.close()\n",
    "        \n",
    "        print(f\"Visualization saved to: {image_path}\")\n",
    "        return image_path\n",
    "        \n",
    "    except Exception as e:\n",
    "        print(f\"Error during visualization: {e}\")\n",
    "        plt.close('all')\n",
    "        return None"
   ]
  },
  {
   "cell_type": "code",
   "execution_count": 8,
   "id": "a35cfe7c",
   "metadata": {},
   "outputs": [],
   "source": [
    "tools = {}\n",
    "tools[\"query_dataframe\"] = FunctionTool.from_defaults(\n",
    "        fn=query_dataframe,\n",
    "        name=\"query_dataframe\",\n",
    "        description=\"Use this tool to query the pandas dataframe and return the filtered dataframe we got after the query\"\n",
    "        )\n",
    "\n",
    "tools[\"visualize_data\"] = FunctionTool.from_defaults(\n",
    "        fn=visualize_data,\n",
    "        name=\"visualize_data\",\n",
    "        description=\"takes the seaborn code for visualization and return the image path\"\n",
    ")"
   ]
  },
  {
   "cell_type": "code",
   "execution_count": 9,
   "id": "f2f70383",
   "metadata": {},
   "outputs": [
    {
     "data": {
      "text/plain": [
       "{'query_dataframe': <llama_index.core.tools.function_tool.FunctionTool at 0x243268650d0>,\n",
       " 'visualize_data': <llama_index.core.tools.function_tool.FunctionTool at 0x24302096450>}"
      ]
     },
     "execution_count": 9,
     "metadata": {},
     "output_type": "execute_result"
    }
   ],
   "source": [
    "tool_map = {tool: tools[tool] for tool in tools.keys()}\n",
    "logging.info(f\"Tool map keys: {tool_map.keys()}\")\n",
    "tool_map"
   ]
  },
  {
   "cell_type": "code",
   "execution_count": 10,
   "id": "13260fb8",
   "metadata": {},
   "outputs": [],
   "source": [
    "func = tool_map[\"query_dataframe\"]"
   ]
  },
  {
   "cell_type": "code",
   "execution_count": 11,
   "id": "fef04652",
   "metadata": {},
   "outputs": [
    {
     "name": "stderr",
     "output_type": "stream",
     "text": [
      "d:\\SandBox\\DA_Agent\\.venv\\Lib\\site-packages\\openpyxl\\styles\\stylesheet.py:237: UserWarning: Workbook contains no default style, apply openpyxl's default\n",
      "  warn(\"Workbook contains no default style, apply openpyxl's default\")\n"
     ]
    }
   ],
   "source": [
    "df = pd.read_excel(\"Data/TransactionReport14.07.2025 .xls\")\n",
    "#normalizing columns\n",
    "df.columns = [col.strip(\" \").replace(\" \", \"_\").lower() for col in df.columns]"
   ]
  },
  {
   "cell_type": "code",
   "execution_count": 12,
   "id": "14d58785",
   "metadata": {},
   "outputs": [
    {
     "name": "stdout",
     "output_type": "stream",
     "text": [
      "Generated Code:  df[df['lake_level_reading(rl)'] > 90][['name_of_dam', 'district', 'taluka', 'village']].head(5)\n"
     ]
    }
   ],
   "source": [
    "\n",
    "\n",
    "result = func(\"df[df['lake_level_reading(rl)'] > 90][['name_of_dam', 'district', 'taluka', 'village']].head(5)\")"
   ]
  },
  {
   "cell_type": "code",
   "execution_count": 13,
   "id": "5b2ec738",
   "metadata": {},
   "outputs": [
    {
     "data": {
      "text/html": [
       "<div>\n",
       "<style scoped>\n",
       "    .dataframe tbody tr th:only-of-type {\n",
       "        vertical-align: middle;\n",
       "    }\n",
       "\n",
       "    .dataframe tbody tr th {\n",
       "        vertical-align: top;\n",
       "    }\n",
       "\n",
       "    .dataframe thead th {\n",
       "        text-align: right;\n",
       "    }\n",
       "</style>\n",
       "<table border=\"1\" class=\"dataframe\">\n",
       "  <thead>\n",
       "    <tr style=\"text-align: right;\">\n",
       "      <th></th>\n",
       "      <th>name_of_dam</th>\n",
       "      <th>district</th>\n",
       "      <th>taluka</th>\n",
       "      <th>village</th>\n",
       "    </tr>\n",
       "  </thead>\n",
       "  <tbody>\n",
       "    <tr>\n",
       "      <th>0</th>\n",
       "      <td>Aadale M.I.</td>\n",
       "      <td>Pune</td>\n",
       "      <td>Mawal</td>\n",
       "      <td>Adhale bk</td>\n",
       "    </tr>\n",
       "    <tr>\n",
       "      <th>1</th>\n",
       "      <td>Aad M. I. Tank</td>\n",
       "      <td>Nashik</td>\n",
       "      <td>Peint</td>\n",
       "      <td>Aad Bk.</td>\n",
       "    </tr>\n",
       "    <tr>\n",
       "      <th>3</th>\n",
       "      <td>Aaland M. I.</td>\n",
       "      <td>Chhatrapati Sambhajinagar</td>\n",
       "      <td>Phulambri</td>\n",
       "      <td>Alad</td>\n",
       "    </tr>\n",
       "    <tr>\n",
       "      <th>4</th>\n",
       "      <td>Abhalwadi KT Weir</td>\n",
       "      <td>Ahilyanagar</td>\n",
       "      <td>Sangamner</td>\n",
       "      <td>Abhalwadi</td>\n",
       "    </tr>\n",
       "    <tr>\n",
       "      <th>5</th>\n",
       "      <td>Abhanpur M. I. Tank</td>\n",
       "      <td>Dhule</td>\n",
       "      <td>Shirpur</td>\n",
       "      <td>Abhanpur Kh.</td>\n",
       "    </tr>\n",
       "  </tbody>\n",
       "</table>\n",
       "</div>"
      ],
      "text/plain": [
       "           name_of_dam                   district     taluka       village\n",
       "0          Aadale M.I.                       Pune      Mawal     Adhale bk\n",
       "1       Aad M. I. Tank                     Nashik      Peint       Aad Bk.\n",
       "3         Aaland M. I.  Chhatrapati Sambhajinagar  Phulambri          Alad\n",
       "4    Abhalwadi KT Weir                Ahilyanagar  Sangamner     Abhalwadi\n",
       "5  Abhanpur M. I. Tank                      Dhule    Shirpur  Abhanpur Kh."
      ]
     },
     "execution_count": 13,
     "metadata": {},
     "output_type": "execute_result"
    }
   ],
   "source": [
    "result.raw_output"
   ]
  },
  {
   "cell_type": "code",
   "execution_count": 14,
   "id": "7c55664b",
   "metadata": {},
   "outputs": [],
   "source": [
    "vis_func = tool_map[\"visualize_data\"]"
   ]
  },
  {
   "cell_type": "code",
   "execution_count": 15,
   "id": "e2effd29",
   "metadata": {},
   "outputs": [
    {
     "name": "stdout",
     "output_type": "stream",
     "text": [
      "Generated Code:\n",
      " import matplotlib.pyplot as plt\n",
      "import seaborn as sns\n",
      "\n",
      "df_sorted = df.sort_values(by='live_storage_(tmc)', ascending=False).head(5)\n",
      "plt.figure(figsize=(10, 6))\n",
      "sns.barplot(x='name_of_dam', y='live_storage_(tmc)', data=df_sorted)\n",
      "plt.title('Top 5 Dams by Live Storage (TMC)')\n",
      "plt.xlabel('Name of Dam')\n",
      "plt.ylabel('Live Storage (TMC)')\n",
      "plt.xticks(rotation=45, ha='right')\n",
      "plt.tight_layout()\n",
      "plt.show()\n"
     ]
    },
    {
     "name": "stderr",
     "output_type": "stream",
     "text": [
      "<string>:12: UserWarning: FigureCanvasAgg is non-interactive, and thus cannot be shown\n"
     ]
    },
    {
     "name": "stdout",
     "output_type": "stream",
     "text": [
      "Visualization saved to: plots\\seaborn_plot.png\n"
     ]
    },
    {
     "name": "stderr",
     "output_type": "stream",
     "text": [
      "C:\\Users\\athar\\AppData\\Local\\Temp\\ipykernel_13360\\3539981648.py:62: UserWarning: FigureCanvasAgg is non-interactive, and thus cannot be shown\n",
      "  plt.show()\n"
     ]
    },
    {
     "data": {
      "text/plain": [
       "ToolOutput(blocks=[TextBlock(block_type='text', text='plots\\\\seaborn_plot.png')], tool_name='visualize_data', raw_input={'args': (\"import matplotlib.pyplot as plt\\nimport seaborn as sns\\n\\ndf_sorted = df.sort_values(by='live_storage_(tmc)', ascending=False).head(5)\\nplt.figure(figsize=(10, 6))\\nsns.barplot(x='name_of_dam', y='live_storage_(tmc)', data=df_sorted)\\nplt.title('Top 5 Dams by Live Storage (TMC)')\\nplt.xlabel('Name of Dam')\\nplt.ylabel('Live Storage (TMC)')\\nplt.xticks(rotation=45, ha='right')\\nplt.tight_layout()\\nplt.show()\",), 'kwargs': {}}, raw_output='plots\\\\seaborn_plot.png', is_error=False)"
      ]
     },
     "execution_count": 15,
     "metadata": {},
     "output_type": "execute_result"
    }
   ],
   "source": [
    "visualization_code = \"\"\"import matplotlib.pyplot as plt\n",
    "import seaborn as sns\n",
    "\n",
    "df_sorted = df.sort_values(by='live_storage_(tmc)', ascending=False).head(5)\n",
    "plt.figure(figsize=(10, 6))\n",
    "sns.barplot(x='name_of_dam', y='live_storage_(tmc)', data=df_sorted)\n",
    "plt.title('Top 5 Dams by Live Storage (TMC)')\n",
    "plt.xlabel('Name of Dam')\n",
    "plt.ylabel('Live Storage (TMC)')\n",
    "plt.xticks(rotation=45, ha='right')\n",
    "plt.tight_layout()\n",
    "plt.show()\"\"\"\n",
    "\n",
    "vis_func(visualization_code)"
   ]
  },
  {
   "cell_type": "code",
   "execution_count": null,
   "id": "896a7b9a",
   "metadata": {},
   "outputs": [],
   "source": []
  },
  {
   "cell_type": "code",
   "execution_count": 16,
   "id": "cd87210b",
   "metadata": {},
   "outputs": [],
   "source": [
    "with open(os.path.join(os.getcwd(), \"config.json\"), 'r') as f:\n",
    "    config = json.loads(f.read())\n",
    "\n",
    "llm = GoogleGenAI(\n",
    "    model=config[\"llm\"][\"model\"],\n",
    "    temperature=config[\"llm\"][\"temperature\"],\n",
    "    api_key=os.getenv(\"GOOGLE_API_KEY\"),\n",
    ")"
   ]
  },
  {
   "cell_type": "code",
   "execution_count": 17,
   "id": "4ccc1ce8",
   "metadata": {},
   "outputs": [],
   "source": [
    "system_prompt = f\"\"\"\n",
    "            You are a Data Analysis Agent which Analyzes the Pandas Dataframe and provide with the insights and Visualization tools. and tells your findings honestly\n",
    "\n",
    "            You have tool like:\n",
    "            query_dataframe -> which allows you to query the pandas dataframe using code and provide with the insights\n",
    "            visualize_data -> which provide you with the seaborn visualization\n",
    "\n",
    "            Columns of the dataframe are : {df.columns}\n",
    "\n",
    "            HARD RULES:\n",
    "            - Use only the column provided not invent other column name.\n",
    "        \"\"\""
   ]
  },
  {
   "cell_type": "code",
   "execution_count": 18,
   "id": "118551a9",
   "metadata": {},
   "outputs": [],
   "source": [
    "prompt = \"Show me the top 5 rows where lake_level_reading(rl) are greater than 90. just provide its name and location columns like taluka, district and region\""
   ]
  },
  {
   "cell_type": "code",
   "execution_count": 19,
   "id": "d5926934",
   "metadata": {},
   "outputs": [],
   "source": [
    "from llama_index.core.llms import ChatMessage\n",
    "\n",
    "messages = [\n",
    "    ChatMessage(role=\"system\", content=system_prompt),\n",
    "    ChatMessage(role=\"user\", content=prompt),\n",
    "]"
   ]
  },
  {
   "cell_type": "code",
   "execution_count": 20,
   "id": "5696cb07",
   "metadata": {},
   "outputs": [],
   "source": [
    "response = llm.chat_with_tools(\n",
    "                chat_history=messages,\n",
    "                tools=list(tools.values()),\n",
    "                allow_parallel_tool_calls=False,\n",
    "                verbose=True,\n",
    "    )"
   ]
  },
  {
   "cell_type": "code",
   "execution_count": 21,
   "id": "af3f389b",
   "metadata": {},
   "outputs": [],
   "source": [
    "tool_calls = response.message.additional_kwargs.get(\"tool_calls\", [])\n",
    "logging.info(f\"Tool calls: {tool_calls}\")\n",
    "if not tool_calls:\n",
    "    logging.info(\"No tool calls in LLM response\")"
   ]
  },
  {
   "cell_type": "code",
   "execution_count": 22,
   "id": "40ebb7b3",
   "metadata": {},
   "outputs": [
    {
     "name": "stdout",
     "output_type": "stream",
     "text": [
      "Tool calls: [FunctionCall(\n",
      "  args={\n",
      "    'code': \"df[df['lake_level_reading(rl)'] > 90][['name_of_dam', 'taluka', 'district', 'region']].head(5)\"\n",
      "  },\n",
      "  name='query_dataframe'\n",
      ")]\n"
     ]
    }
   ],
   "source": [
    "tool_calls = response.message.additional_kwargs.get(\"tool_calls\", [])\n",
    "print(f\"Tool calls: {tool_calls}\")\n",
    "if not tool_calls:\n",
    "    print(\"No tool calls in LLM response\")"
   ]
  },
  {
   "cell_type": "code",
   "execution_count": 23,
   "id": "134a46a4",
   "metadata": {},
   "outputs": [
    {
     "name": "stdout",
     "output_type": "stream",
     "text": [
      "Processing tool call: query_dataframe\n",
      "<llama_index.core.tools.function_tool.FunctionTool object at 0x00000243268650D0>\n",
      "Generated Code:  df[df['lake_level_reading(rl)'] > 90][['name_of_dam', 'taluka', 'district', 'region']].head(5)\n",
      "Executing tool query_dataframe with Code: df[df['lake_level_reading(rl)'] > 90][['name_of_dam', 'taluka', 'district', 'region']].head(5)\n",
      "Tool query_dataframe result:            name_of_dam     taluka                   district  \\\n",
      "0          Aadale M.I.      Mawal                       Pune   \n",
      "1       Aad M. I. Tank      Peint                     Nashik   \n",
      "3         Aaland M. I.  Phulambri  Chhatrapati Sambhajinagar   \n",
      "4    Abhalwadi KT Weir  Sangamner                Ahilyanagar   \n",
      "5  Abhanpur M. I. Tank    Shirpur                      Dhule   \n",
      "\n",
      "                                              region  \n",
      "0  Chief Engineer, Water Resources Department - P...  \n",
      "1  Chief Engineer, Water Resources Department, Ko...  \n",
      "3  Chief Engineer and Chief Administrator, Water ...  \n",
      "4  Chief Engineer, North Maharashtra Region - Nas...  \n",
      "5  Chief Engineer, Tapi Irrigation Development Co...  \n"
     ]
    }
   ],
   "source": [
    "for tool_call in tool_calls:\n",
    "    tool_name = tool_call.name\n",
    "    print(f\"Processing tool call: {tool_name}\")\n",
    "    tool_func = tool_map[tool_name]\n",
    "    print(tool_func)\n",
    "    if not tool_func:\n",
    "        print(f\"Tool {tool_name} not found in tool_map: {tool_map.keys()}\")\n",
    "        continue\n",
    "    try:\n",
    "        if tool_name == \"query_dataframe\":\n",
    "            args = tool_call.args\n",
    "            code = args[\"code\"]\n",
    "            if not isinstance(code, str) or not code.strip():\n",
    "                print(f\"Skipping {tool_name} with invalid or empty code: {code}\")\n",
    "                continue\n",
    "            result = tool_func(code)\n",
    "            \n",
    "            print(f\"Executing tool {tool_name} with Code: {code}\")\n",
    "            print(f\"Tool {tool_name} result: {result}\")\n",
    "    except Exception as e:\n",
    "        print(f\"Error executing tool {tool_name}: {type(e).__name__}: {e}\")"
   ]
  },
  {
   "cell_type": "code",
   "execution_count": 24,
   "id": "ce61b4db",
   "metadata": {},
   "outputs": [
    {
     "data": {
      "text/plain": [
       "\"df[df['lake_level_reading(rl)'] > 90][['name_of_dam', 'taluka', 'district', 'region']].head(5)\""
      ]
     },
     "execution_count": 24,
     "metadata": {},
     "output_type": "execute_result"
    }
   ],
   "source": [
    "code = tool_calls[0].args.get(\"code\", \"\")\n",
    "code"
   ]
  },
  {
   "cell_type": "code",
   "execution_count": null,
   "id": "d7853b25",
   "metadata": {},
   "outputs": [],
   "source": []
  },
  {
   "cell_type": "code",
   "execution_count": 25,
   "id": "358cbfa6",
   "metadata": {},
   "outputs": [
    {
     "name": "stdout",
     "output_type": "stream",
     "text": [
      "Generated Code:  df[df['lake_level_reading(rl)'] > 90][['name_of_dam', 'taluka', 'district', 'region']].head(5)\n"
     ]
    },
    {
     "data": {
      "text/plain": [
       "ToolOutput(blocks=[TextBlock(block_type='text', text='           name_of_dam     taluka                   district  \\\\\\n0          Aadale M.I.      Mawal                       Pune   \\n1       Aad M. I. Tank      Peint                     Nashik   \\n3         Aaland M. I.  Phulambri  Chhatrapati Sambhajinagar   \\n4    Abhalwadi KT Weir  Sangamner                Ahilyanagar   \\n5  Abhanpur M. I. Tank    Shirpur                      Dhule   \\n\\n                                              region  \\n0  Chief Engineer, Water Resources Department - P...  \\n1  Chief Engineer, Water Resources Department, Ko...  \\n3  Chief Engineer and Chief Administrator, Water ...  \\n4  Chief Engineer, North Maharashtra Region - Nas...  \\n5  Chief Engineer, Tapi Irrigation Development Co...  ')], tool_name='query_dataframe', raw_input={'args': (\"df[df['lake_level_reading(rl)'] > 90][['name_of_dam', 'taluka', 'district', 'region']].head(5)\",), 'kwargs': {}}, raw_output=           name_of_dam     taluka                   district  \\\n",
       "0          Aadale M.I.      Mawal                       Pune   \n",
       "1       Aad M. I. Tank      Peint                     Nashik   \n",
       "3         Aaland M. I.  Phulambri  Chhatrapati Sambhajinagar   \n",
       "4    Abhalwadi KT Weir  Sangamner                Ahilyanagar   \n",
       "5  Abhanpur M. I. Tank    Shirpur                      Dhule   \n",
       "\n",
       "                                              region  \n",
       "0  Chief Engineer, Water Resources Department - P...  \n",
       "1  Chief Engineer, Water Resources Department, Ko...  \n",
       "3  Chief Engineer and Chief Administrator, Water ...  \n",
       "4  Chief Engineer, North Maharashtra Region - Nas...  \n",
       "5  Chief Engineer, Tapi Irrigation Development Co...  , is_error=False)"
      ]
     },
     "execution_count": 25,
     "metadata": {},
     "output_type": "execute_result"
    }
   ],
   "source": [
    "tool_map[\"query_dataframe\"](code)"
   ]
  },
  {
   "cell_type": "code",
   "execution_count": null,
   "id": "5aa4043c",
   "metadata": {},
   "outputs": [
    {
     "data": {
      "text/plain": [
       "pandas.core.frame.DataFrame"
      ]
     },
     "execution_count": 26,
     "metadata": {},
     "output_type": "execute_result"
    },
    {
     "ename": "",
     "evalue": "",
     "output_type": "error",
     "traceback": [
      "\u001b[1;31mThe Kernel crashed while executing code in the current cell or a previous cell. \n",
      "\u001b[1;31mPlease review the code in the cell(s) to identify a possible cause of the failure. \n",
      "\u001b[1;31mClick <a href='https://aka.ms/vscodeJupyterKernelCrash'>here</a> for more info. \n",
      "\u001b[1;31mView Jupyter <a href='command:jupyter.viewOutput'>log</a> for further details."
     ]
    }
   ],
   "source": [
    "type(result.raw_output)"
   ]
  },
  {
   "cell_type": "code",
   "execution_count": null,
   "id": "52e2bc92",
   "metadata": {},
   "outputs": [],
   "source": []
  }
 ],
 "metadata": {
  "kernelspec": {
   "display_name": "DA_Agent",
   "language": "python",
   "name": "python3"
  },
  "language_info": {
   "codemirror_mode": {
    "name": "ipython",
    "version": 3
   },
   "file_extension": ".py",
   "mimetype": "text/x-python",
   "name": "python",
   "nbconvert_exporter": "python",
   "pygments_lexer": "ipython3",
   "version": "3.12.8"
  }
 },
 "nbformat": 4,
 "nbformat_minor": 5
}
